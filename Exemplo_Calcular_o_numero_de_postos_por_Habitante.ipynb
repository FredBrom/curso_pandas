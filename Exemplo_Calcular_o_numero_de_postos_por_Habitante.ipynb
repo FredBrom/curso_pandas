{
  "nbformat": 4,
  "nbformat_minor": 0,
  "metadata": {
    "colab": {
      "provenance": [],
      "authorship_tag": "ABX9TyPbCB85Od4xP9hScyaGRKIB",
      "include_colab_link": true
    },
    "kernelspec": {
      "name": "python3",
      "display_name": "Python 3"
    },
    "language_info": {
      "name": "python"
    }
  },
  "cells": [
    {
      "cell_type": "markdown",
      "metadata": {
        "id": "view-in-github",
        "colab_type": "text"
      },
      "source": [
        "<a href=\"https://colab.research.google.com/github/FredBrom/curso_pandas/blob/main/Exemplo_Calcular_o_numero_de_postos_por_Habitante.ipynb\" target=\"_parent\"><img src=\"https://colab.research.google.com/assets/colab-badge.svg\" alt=\"Open In Colab\"/></a>"
      ]
    },
    {
      "cell_type": "markdown",
      "source": [
        "#Exemplo - Calcular o numero de postos por 100 mil habitantes \n",
        "Data: 10-02-23\n",
        "\n",
        "Aluno: Frederico Marx Brom Carneiro\n",
        "\n",
        "Este Exemplo mostra a concatenação de dois bancos de dados, um contendo o numero de postos por cidade e outo contendo o numero de habitantes.\n"
      ],
      "metadata": {
        "id": "hQ7ZUNSmcUio"
      }
    },
    {
      "cell_type": "code",
      "source": [
        "#Importa a biblioteca gera os data-frames\n",
        "\n",
        "import pandas as pd\n",
        "\n",
        "comb_df = pd.read_excel('ca-2021-02.xlsx')\n",
        "habitantes_df = pd.read_csv('ibge_num_habitantes_estimado.csv', delimiter=';')"
      ],
      "metadata": {
        "id": "dNc3pqTec7_S"
      },
      "execution_count": 1,
      "outputs": []
    },
    {
      "cell_type": "code",
      "source": [
        "#Imprime informações sobre os data_frames\n",
        "print(comb_df.info())\n",
        "print(habitantes_df.info())"
      ],
      "metadata": {
        "colab": {
          "base_uri": "https://localhost:8080/"
        },
        "id": "0MxPF4kpd4W3",
        "outputId": "f009d815-6d41-4085-9b03-444f15e7cf40"
      },
      "execution_count": 2,
      "outputs": [
        {
          "output_type": "stream",
          "name": "stdout",
          "text": [
            "<class 'pandas.core.frame.DataFrame'>\n",
            "RangeIndex: 168409 entries, 0 to 168408\n",
            "Data columns (total 16 columns):\n",
            " #   Column             Non-Null Count   Dtype         \n",
            "---  ------             --------------   -----         \n",
            " 0   Regiao - Sigla     168409 non-null  object        \n",
            " 1   Estado - Sigla     168409 non-null  object        \n",
            " 2   Municipio          168409 non-null  object        \n",
            " 3   Revenda            168409 non-null  object        \n",
            " 4   CNPJ da Revenda    168409 non-null  object        \n",
            " 5   Nome da Rua        168409 non-null  object        \n",
            " 6   Numero Rua         168353 non-null  object        \n",
            " 7   Complemento        35057 non-null   object        \n",
            " 8   Bairro             168043 non-null  object        \n",
            " 9   Cep                168409 non-null  object        \n",
            " 10  Produto            168409 non-null  object        \n",
            " 11  Data da Coleta     168409 non-null  datetime64[ns]\n",
            " 12  Valor de Venda     168409 non-null  float64       \n",
            " 13  Valor de Compra    0 non-null       float64       \n",
            " 14  Unidade de Medida  168409 non-null  object        \n",
            " 15  Bandeira           168409 non-null  object        \n",
            "dtypes: datetime64[ns](1), float64(2), object(13)\n",
            "memory usage: 20.6+ MB\n",
            "None\n",
            "<class 'pandas.core.frame.DataFrame'>\n",
            "RangeIndex: 18 entries, 0 to 17\n",
            "Data columns (total 3 columns):\n",
            " #   Column             Non-Null Count  Dtype \n",
            "---  ------             --------------  ----- \n",
            " 0   Municipio          18 non-null     object\n",
            " 1   Estado             18 non-null     object\n",
            " 2   NumHabitantes2021  18 non-null     int64 \n",
            "dtypes: int64(1), object(2)\n",
            "memory usage: 560.0+ bytes\n",
            "None\n"
          ]
        }
      ]
    },
    {
      "cell_type": "code",
      "source": [
        "#Renomeia a coluna Estado e NumHabitantes2121 do data-frame habitantes_df\n",
        "habitantes_df.rename(columns={'Estado':'Estado - Sigla', 'NumHabitantes2021':'Habitantes'}, inplace=True)\n",
        "print(habitantes_df.keys())\n"
      ],
      "metadata": {
        "colab": {
          "base_uri": "https://localhost:8080/"
        },
        "id": "aER1-736eN0m",
        "outputId": "278f757a-0e62-403d-cc9c-a878cc8af576"
      },
      "execution_count": 3,
      "outputs": [
        {
          "output_type": "stream",
          "name": "stdout",
          "text": [
            "Index(['Municipio', 'Estado - Sigla', 'Habitantes'], dtype='object')\n"
          ]
        }
      ]
    },
    {
      "cell_type": "code",
      "source": [
        "#Remove as colunas desnecessárias do data-frame comb_df\n",
        "necessary = ['Revenda', 'Municipio', 'Estado - Sigla', 'CNPJ da Revenda']\n",
        "\n",
        "to_drop = []\n",
        "\n",
        "for column in comb_df.keys():\n",
        "  if column not in necessary:\n",
        "    to_drop.append(column)\n",
        "\n",
        "comb_df.drop(to_drop, axis='columns', inplace=True)\n",
        "\n",
        "print('Colunas Removidas: ',to_drop)\n",
        "\n",
        "print(comb_df.info())"
      ],
      "metadata": {
        "colab": {
          "base_uri": "https://localhost:8080/"
        },
        "id": "WQgrwpXre5ml",
        "outputId": "73c6826c-ea1a-45d2-83e9-9f28c576d7bc"
      },
      "execution_count": 4,
      "outputs": [
        {
          "output_type": "stream",
          "name": "stdout",
          "text": [
            "Colunas Removidas:  ['Regiao - Sigla', 'Nome da Rua', 'Numero Rua', 'Complemento', 'Bairro', 'Cep', 'Produto', 'Data da Coleta', 'Valor de Venda', 'Valor de Compra', 'Unidade de Medida', 'Bandeira']\n",
            "<class 'pandas.core.frame.DataFrame'>\n",
            "RangeIndex: 168409 entries, 0 to 168408\n",
            "Data columns (total 4 columns):\n",
            " #   Column           Non-Null Count   Dtype \n",
            "---  ------           --------------   ----- \n",
            " 0   Estado - Sigla   168409 non-null  object\n",
            " 1   Municipio        168409 non-null  object\n",
            " 2   Revenda          168409 non-null  object\n",
            " 3   CNPJ da Revenda  168409 non-null  object\n",
            "dtypes: object(4)\n",
            "memory usage: 5.1+ MB\n",
            "None\n"
          ]
        }
      ]
    },
    {
      "cell_type": "code",
      "source": [
        "#Combina os dois data-frames, mantendo apenas as entradas que aparecem nos dois bancos de dados\n",
        "# usar MERGE e INNER\n",
        "\n",
        "merged_df = comb_df.merge(habitantes_df, how='inner')\n",
        "print(merged_df.info())"
      ],
      "metadata": {
        "colab": {
          "base_uri": "https://localhost:8080/"
        },
        "id": "in5ZQ2Qwh3by",
        "outputId": "d4f00d74-96db-4e96-8625-84ffb5a52031"
      },
      "execution_count": 5,
      "outputs": [
        {
          "output_type": "stream",
          "name": "stdout",
          "text": [
            "<class 'pandas.core.frame.DataFrame'>\n",
            "Int64Index: 20634 entries, 0 to 20633\n",
            "Data columns (total 5 columns):\n",
            " #   Column           Non-Null Count  Dtype \n",
            "---  ------           --------------  ----- \n",
            " 0   Estado - Sigla   20634 non-null  object\n",
            " 1   Municipio        20634 non-null  object\n",
            " 2   Revenda          20634 non-null  object\n",
            " 3   CNPJ da Revenda  20634 non-null  object\n",
            " 4   Habitantes       20634 non-null  int64 \n",
            "dtypes: int64(1), object(4)\n",
            "memory usage: 967.2+ KB\n",
            "None\n"
          ]
        }
      ]
    },
    {
      "cell_type": "code",
      "source": [
        "#Remove postos duplicados, Utilizando CNPJ da Revenda, pois o CNPJ é unico para um mesmo posto.\n",
        "\n",
        "merged_df.drop_duplicates(subset='CNPJ da Revenda', inplace=True)\n",
        "print(merged_df.info())"
      ],
      "metadata": {
        "colab": {
          "base_uri": "https://localhost:8080/"
        },
        "id": "fUTZq7LTic3j",
        "outputId": "d3ce4dee-b65e-4111-eadd-a84868b518c8"
      },
      "execution_count": 6,
      "outputs": [
        {
          "output_type": "stream",
          "name": "stdout",
          "text": [
            "<class 'pandas.core.frame.DataFrame'>\n",
            "Int64Index: 1532 entries, 0 to 20608\n",
            "Data columns (total 5 columns):\n",
            " #   Column           Non-Null Count  Dtype \n",
            "---  ------           --------------  ----- \n",
            " 0   Estado - Sigla   1532 non-null   object\n",
            " 1   Municipio        1532 non-null   object\n",
            " 2   Revenda          1532 non-null   object\n",
            " 3   CNPJ da Revenda  1532 non-null   object\n",
            " 4   Habitantes       1532 non-null   int64 \n",
            "dtypes: int64(1), object(4)\n",
            "memory usage: 71.8+ KB\n",
            "None\n"
          ]
        }
      ]
    },
    {
      "cell_type": "code",
      "source": [
        "numero_postos = merged_df.groupby(by=['Estado - Sigla', 'Municipio', 'Habitantes'])['CNPJ da Revenda'].count()\n",
        "\n",
        "Estado = []\n",
        "Municipio = []\n",
        "Habitantes = []\n",
        "Num_Postos = []\n",
        "\n",
        "for estado_UF, cidade, populacao in numero_postos.keys():\n",
        "  Estado.append(estado_UF)\n",
        "  Municipio.append(cidade)\n",
        "  Habitantes.append(populacao)\n",
        "  Num_Postos.append(numero_postos[estado_UF,cidade,populacao])\n",
        "\n",
        "postos_por_habitante = []\n",
        "\n",
        "for i in range(len(Municipio)):\n",
        "  postos_por_habitante.append((Num_Postos[i]*100e3)/Habitantes[i])\n",
        "\n",
        "postos_df = pd.DataFrame()\n",
        "\n",
        "postos_df['Estado - Sigla'] = Estado\n",
        "postos_df['Municipio'] = Municipio\n",
        "postos_df['Habitantes'] = Habitantes\n",
        "postos_df['Numero de Postos'] = Num_Postos\n",
        "postos_df['Postos por 100 mil Habitantes'] = postos_por_habitante\n"
      ],
      "metadata": {
        "id": "CYpmN_l8vYWa"
      },
      "execution_count": 7,
      "outputs": []
    },
    {
      "cell_type": "code",
      "source": [
        "print(postos_df.info())"
      ],
      "metadata": {
        "colab": {
          "base_uri": "https://localhost:8080/"
        },
        "id": "CAIHvH9xCznv",
        "outputId": "c21a052a-f06b-44ed-9add-ad35a6ef1aac"
      },
      "execution_count": 8,
      "outputs": [
        {
          "output_type": "stream",
          "name": "stdout",
          "text": [
            "<class 'pandas.core.frame.DataFrame'>\n",
            "RangeIndex: 15 entries, 0 to 14\n",
            "Data columns (total 5 columns):\n",
            " #   Column                         Non-Null Count  Dtype  \n",
            "---  ------                         --------------  -----  \n",
            " 0   Estado - Sigla                 15 non-null     object \n",
            " 1   Municipio                      15 non-null     object \n",
            " 2   Habitantes                     15 non-null     int64  \n",
            " 3   Numero de Postos               15 non-null     int64  \n",
            " 4   Postos por 100 mil Habitantes  15 non-null     float64\n",
            "dtypes: float64(1), int64(2), object(2)\n",
            "memory usage: 728.0+ bytes\n",
            "None\n"
          ]
        }
      ]
    },
    {
      "cell_type": "markdown",
      "source": [
        "##Apresentação dos Dados do Data-Frame"
      ],
      "metadata": {
        "id": "SYBKTYY1C5ij"
      }
    },
    {
      "cell_type": "code",
      "source": [
        "display(postos_df)"
      ],
      "metadata": {
        "colab": {
          "base_uri": "https://localhost:8080/",
          "height": 519
        },
        "id": "dVIDoS2SDAL9",
        "outputId": "30e27b1a-3777-4cb3-8fc3-16eb71ff6c86"
      },
      "execution_count": 9,
      "outputs": [
        {
          "output_type": "display_data",
          "data": {
            "text/plain": [
              "   Estado - Sigla       Municipio  Habitantes  Numero de Postos  \\\n",
              "0              AC      RIO BRANCO      419452                44   \n",
              "1              GO         GOIANIA     1555626                93   \n",
              "2              MG  BELO HORIZONTE     2530701                54   \n",
              "3              MS    CAMPO GRANDE      916001               104   \n",
              "4              PR        CURITIBA     1963726               110   \n",
              "5              RJ  RIO DE JANEIRO     6775561               379   \n",
              "6              RN           NATAL      803739                37   \n",
              "7              RO     PORTO VELHO      548952                40   \n",
              "8              RS    PORTO ALEGRE     1492530                73   \n",
              "9              SP        CAMPINAS     1223237                51   \n",
              "10             SP      INDAIATUBA      260690                36   \n",
              "11             SP          SANTOS      433991                36   \n",
              "12             SP       SAO PAULO    12396372               429   \n",
              "13             SP     SAO VICENTE      370839                20   \n",
              "14             TO          PALMAS      313349                26   \n",
              "\n",
              "    Postos por 100 mil Habitantes  \n",
              "0                       10.489877  \n",
              "1                        5.978301  \n",
              "2                        2.133796  \n",
              "3                       11.353699  \n",
              "4                        5.601596  \n",
              "5                        5.593633  \n",
              "6                        4.603484  \n",
              "7                        7.286612  \n",
              "8                        4.891024  \n",
              "9                        4.169266  \n",
              "10                      13.809506  \n",
              "11                       8.295103  \n",
              "12                       3.460690  \n",
              "13                       5.393176  \n",
              "14                       8.297457  "
            ],
            "text/html": [
              "\n",
              "  <div id=\"df-e1c81c89-7e27-4dad-ad6e-e8bee2a1c20b\">\n",
              "    <div class=\"colab-df-container\">\n",
              "      <div>\n",
              "<style scoped>\n",
              "    .dataframe tbody tr th:only-of-type {\n",
              "        vertical-align: middle;\n",
              "    }\n",
              "\n",
              "    .dataframe tbody tr th {\n",
              "        vertical-align: top;\n",
              "    }\n",
              "\n",
              "    .dataframe thead th {\n",
              "        text-align: right;\n",
              "    }\n",
              "</style>\n",
              "<table border=\"1\" class=\"dataframe\">\n",
              "  <thead>\n",
              "    <tr style=\"text-align: right;\">\n",
              "      <th></th>\n",
              "      <th>Estado - Sigla</th>\n",
              "      <th>Municipio</th>\n",
              "      <th>Habitantes</th>\n",
              "      <th>Numero de Postos</th>\n",
              "      <th>Postos por 100 mil Habitantes</th>\n",
              "    </tr>\n",
              "  </thead>\n",
              "  <tbody>\n",
              "    <tr>\n",
              "      <th>0</th>\n",
              "      <td>AC</td>\n",
              "      <td>RIO BRANCO</td>\n",
              "      <td>419452</td>\n",
              "      <td>44</td>\n",
              "      <td>10.489877</td>\n",
              "    </tr>\n",
              "    <tr>\n",
              "      <th>1</th>\n",
              "      <td>GO</td>\n",
              "      <td>GOIANIA</td>\n",
              "      <td>1555626</td>\n",
              "      <td>93</td>\n",
              "      <td>5.978301</td>\n",
              "    </tr>\n",
              "    <tr>\n",
              "      <th>2</th>\n",
              "      <td>MG</td>\n",
              "      <td>BELO HORIZONTE</td>\n",
              "      <td>2530701</td>\n",
              "      <td>54</td>\n",
              "      <td>2.133796</td>\n",
              "    </tr>\n",
              "    <tr>\n",
              "      <th>3</th>\n",
              "      <td>MS</td>\n",
              "      <td>CAMPO GRANDE</td>\n",
              "      <td>916001</td>\n",
              "      <td>104</td>\n",
              "      <td>11.353699</td>\n",
              "    </tr>\n",
              "    <tr>\n",
              "      <th>4</th>\n",
              "      <td>PR</td>\n",
              "      <td>CURITIBA</td>\n",
              "      <td>1963726</td>\n",
              "      <td>110</td>\n",
              "      <td>5.601596</td>\n",
              "    </tr>\n",
              "    <tr>\n",
              "      <th>5</th>\n",
              "      <td>RJ</td>\n",
              "      <td>RIO DE JANEIRO</td>\n",
              "      <td>6775561</td>\n",
              "      <td>379</td>\n",
              "      <td>5.593633</td>\n",
              "    </tr>\n",
              "    <tr>\n",
              "      <th>6</th>\n",
              "      <td>RN</td>\n",
              "      <td>NATAL</td>\n",
              "      <td>803739</td>\n",
              "      <td>37</td>\n",
              "      <td>4.603484</td>\n",
              "    </tr>\n",
              "    <tr>\n",
              "      <th>7</th>\n",
              "      <td>RO</td>\n",
              "      <td>PORTO VELHO</td>\n",
              "      <td>548952</td>\n",
              "      <td>40</td>\n",
              "      <td>7.286612</td>\n",
              "    </tr>\n",
              "    <tr>\n",
              "      <th>8</th>\n",
              "      <td>RS</td>\n",
              "      <td>PORTO ALEGRE</td>\n",
              "      <td>1492530</td>\n",
              "      <td>73</td>\n",
              "      <td>4.891024</td>\n",
              "    </tr>\n",
              "    <tr>\n",
              "      <th>9</th>\n",
              "      <td>SP</td>\n",
              "      <td>CAMPINAS</td>\n",
              "      <td>1223237</td>\n",
              "      <td>51</td>\n",
              "      <td>4.169266</td>\n",
              "    </tr>\n",
              "    <tr>\n",
              "      <th>10</th>\n",
              "      <td>SP</td>\n",
              "      <td>INDAIATUBA</td>\n",
              "      <td>260690</td>\n",
              "      <td>36</td>\n",
              "      <td>13.809506</td>\n",
              "    </tr>\n",
              "    <tr>\n",
              "      <th>11</th>\n",
              "      <td>SP</td>\n",
              "      <td>SANTOS</td>\n",
              "      <td>433991</td>\n",
              "      <td>36</td>\n",
              "      <td>8.295103</td>\n",
              "    </tr>\n",
              "    <tr>\n",
              "      <th>12</th>\n",
              "      <td>SP</td>\n",
              "      <td>SAO PAULO</td>\n",
              "      <td>12396372</td>\n",
              "      <td>429</td>\n",
              "      <td>3.460690</td>\n",
              "    </tr>\n",
              "    <tr>\n",
              "      <th>13</th>\n",
              "      <td>SP</td>\n",
              "      <td>SAO VICENTE</td>\n",
              "      <td>370839</td>\n",
              "      <td>20</td>\n",
              "      <td>5.393176</td>\n",
              "    </tr>\n",
              "    <tr>\n",
              "      <th>14</th>\n",
              "      <td>TO</td>\n",
              "      <td>PALMAS</td>\n",
              "      <td>313349</td>\n",
              "      <td>26</td>\n",
              "      <td>8.297457</td>\n",
              "    </tr>\n",
              "  </tbody>\n",
              "</table>\n",
              "</div>\n",
              "      <button class=\"colab-df-convert\" onclick=\"convertToInteractive('df-e1c81c89-7e27-4dad-ad6e-e8bee2a1c20b')\"\n",
              "              title=\"Convert this dataframe to an interactive table.\"\n",
              "              style=\"display:none;\">\n",
              "        \n",
              "  <svg xmlns=\"http://www.w3.org/2000/svg\" height=\"24px\"viewBox=\"0 0 24 24\"\n",
              "       width=\"24px\">\n",
              "    <path d=\"M0 0h24v24H0V0z\" fill=\"none\"/>\n",
              "    <path d=\"M18.56 5.44l.94 2.06.94-2.06 2.06-.94-2.06-.94-.94-2.06-.94 2.06-2.06.94zm-11 1L8.5 8.5l.94-2.06 2.06-.94-2.06-.94L8.5 2.5l-.94 2.06-2.06.94zm10 10l.94 2.06.94-2.06 2.06-.94-2.06-.94-.94-2.06-.94 2.06-2.06.94z\"/><path d=\"M17.41 7.96l-1.37-1.37c-.4-.4-.92-.59-1.43-.59-.52 0-1.04.2-1.43.59L10.3 9.45l-7.72 7.72c-.78.78-.78 2.05 0 2.83L4 21.41c.39.39.9.59 1.41.59.51 0 1.02-.2 1.41-.59l7.78-7.78 2.81-2.81c.8-.78.8-2.07 0-2.86zM5.41 20L4 18.59l7.72-7.72 1.47 1.35L5.41 20z\"/>\n",
              "  </svg>\n",
              "      </button>\n",
              "      \n",
              "  <style>\n",
              "    .colab-df-container {\n",
              "      display:flex;\n",
              "      flex-wrap:wrap;\n",
              "      gap: 12px;\n",
              "    }\n",
              "\n",
              "    .colab-df-convert {\n",
              "      background-color: #E8F0FE;\n",
              "      border: none;\n",
              "      border-radius: 50%;\n",
              "      cursor: pointer;\n",
              "      display: none;\n",
              "      fill: #1967D2;\n",
              "      height: 32px;\n",
              "      padding: 0 0 0 0;\n",
              "      width: 32px;\n",
              "    }\n",
              "\n",
              "    .colab-df-convert:hover {\n",
              "      background-color: #E2EBFA;\n",
              "      box-shadow: 0px 1px 2px rgba(60, 64, 67, 0.3), 0px 1px 3px 1px rgba(60, 64, 67, 0.15);\n",
              "      fill: #174EA6;\n",
              "    }\n",
              "\n",
              "    [theme=dark] .colab-df-convert {\n",
              "      background-color: #3B4455;\n",
              "      fill: #D2E3FC;\n",
              "    }\n",
              "\n",
              "    [theme=dark] .colab-df-convert:hover {\n",
              "      background-color: #434B5C;\n",
              "      box-shadow: 0px 1px 3px 1px rgba(0, 0, 0, 0.15);\n",
              "      filter: drop-shadow(0px 1px 2px rgba(0, 0, 0, 0.3));\n",
              "      fill: #FFFFFF;\n",
              "    }\n",
              "  </style>\n",
              "\n",
              "      <script>\n",
              "        const buttonEl =\n",
              "          document.querySelector('#df-e1c81c89-7e27-4dad-ad6e-e8bee2a1c20b button.colab-df-convert');\n",
              "        buttonEl.style.display =\n",
              "          google.colab.kernel.accessAllowed ? 'block' : 'none';\n",
              "\n",
              "        async function convertToInteractive(key) {\n",
              "          const element = document.querySelector('#df-e1c81c89-7e27-4dad-ad6e-e8bee2a1c20b');\n",
              "          const dataTable =\n",
              "            await google.colab.kernel.invokeFunction('convertToInteractive',\n",
              "                                                     [key], {});\n",
              "          if (!dataTable) return;\n",
              "\n",
              "          const docLinkHtml = 'Like what you see? Visit the ' +\n",
              "            '<a target=\"_blank\" href=https://colab.research.google.com/notebooks/data_table.ipynb>data table notebook</a>'\n",
              "            + ' to learn more about interactive tables.';\n",
              "          element.innerHTML = '';\n",
              "          dataTable['output_type'] = 'display_data';\n",
              "          await google.colab.output.renderOutput(dataTable, element);\n",
              "          const docLink = document.createElement('div');\n",
              "          docLink.innerHTML = docLinkHtml;\n",
              "          element.appendChild(docLink);\n",
              "        }\n",
              "      </script>\n",
              "    </div>\n",
              "  </div>\n",
              "  "
            ]
          },
          "metadata": {}
        }
      ]
    }
  ]
}