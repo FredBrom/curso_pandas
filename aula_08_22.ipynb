{
  "nbformat": 4,
  "nbformat_minor": 0,
  "metadata": {
    "colab": {
      "provenance": [],
      "authorship_tag": "ABX9TyPp0Q5JhA1QuPQhwRwDFn/z",
      "include_colab_link": true
    },
    "kernelspec": {
      "name": "python3",
      "display_name": "Python 3"
    },
    "language_info": {
      "name": "python"
    }
  },
  "cells": [
    {
      "cell_type": "markdown",
      "metadata": {
        "id": "view-in-github",
        "colab_type": "text"
      },
      "source": [
        "<a href=\"https://colab.research.google.com/github/FredBrom/curso_pandas/blob/main/aula_08_22.ipynb\" target=\"_parent\"><img src=\"https://colab.research.google.com/assets/colab-badge.svg\" alt=\"Open In Colab\"/></a>"
      ]
    },
    {
      "cell_type": "markdown",
      "source": [
        "\n",
        "\n",
        "#Aula do dia 08/02/22 do curso Análise de Dados com Python e Pandas"
      ],
      "metadata": {
        "id": "0qGWMunxkM8z"
      }
    },
    {
      "cell_type": "code",
      "execution_count": 1,
      "metadata": {
        "id": "zpibDQB19dzx"
      },
      "outputs": [],
      "source": [
        "import pandas as pd\n",
        "\n",
        "comb_df = pd.read_excel('ca-2021-02.xlsx')"
      ]
    },
    {
      "cell_type": "code",
      "source": [
        "#Lista as colunas do data-frame\n",
        "print(comb_df.keys())"
      ],
      "metadata": {
        "colab": {
          "base_uri": "https://localhost:8080/"
        },
        "id": "NUjB8V1j-SGx",
        "outputId": "757b2f8b-d751-4995-a269-c631ed94bdf2"
      },
      "execution_count": 24,
      "outputs": [
        {
          "output_type": "stream",
          "name": "stdout",
          "text": [
            "Index(['Regiao - Sigla', 'Estado - Sigla', 'Municipio', 'Revenda',\n",
            "       'CNPJ da Revenda', 'Nome da Rua', 'Numero Rua', 'Complemento', 'Bairro',\n",
            "       'Cep', 'Produto', 'Data da Coleta', 'Valor de Venda', 'Valor de Compra',\n",
            "       'Unidade de Medida', 'Bandeira'],\n",
            "      dtype='object')\n"
          ]
        }
      ]
    },
    {
      "cell_type": "code",
      "source": [
        "#Cria um data-frame contendo Revenda, Municipio, Produto e Valor de Venda\n",
        "#Apenas para Gasolina\n",
        "\n",
        "gas_df = comb_df[['Revenda', 'Municipio', 'Produto', 'Valor de Venda']]\n",
        "gas_df = gas_df.loc[gas_df['Produto'] == 'GASOLINA']\n",
        "\n"
      ],
      "metadata": {
        "id": "diYlNJtw-rrC"
      },
      "execution_count": null,
      "outputs": []
    },
    {
      "cell_type": "code",
      "source": [
        "#Mostra a média de preço da gasolina\n",
        "print('Preço Médio da gasolina no Brasil: R${0:2.2f}'.format(gas_df['Valor de Venda'].mean()))"
      ],
      "metadata": {
        "colab": {
          "base_uri": "https://localhost:8080/"
        },
        "id": "mOVHqg7e_nYG",
        "outputId": "8232525d-2f74-4856-eeab-ccf2b64f28c5"
      },
      "execution_count": 22,
      "outputs": [
        {
          "output_type": "stream",
          "name": "stdout",
          "text": [
            "Preço Médio da gasolina no Brasil: R$6.71\n"
          ]
        }
      ]
    },
    {
      "cell_type": "code",
      "source": [
        "#Informa dados estatisticos da gasolina em BH \n",
        "print(gas_df.loc[gas_df['Municipio'] == 'BELO HORIZONTE'].describe())"
      ],
      "metadata": {
        "colab": {
          "base_uri": "https://localhost:8080/"
        },
        "id": "ZMf8prWxGZOQ",
        "outputId": "8d8a74b0-b90a-43ab-f9c2-d872a4f4d2b8"
      },
      "execution_count": 34,
      "outputs": [
        {
          "output_type": "stream",
          "name": "stdout",
          "text": [
            "       Valor de Venda\n",
            "count      254.000000\n",
            "mean         6.820602\n",
            "std          0.066560\n",
            "min          6.675000\n",
            "25%          6.775000\n",
            "50%          6.790000\n",
            "75%          6.875000\n",
            "max          6.999000\n"
          ]
        }
      ]
    },
    {
      "cell_type": "markdown",
      "source": [
        "DataFrame.loc[] com múltiplas condições para filtragem"
      ],
      "metadata": {
        "id": "9hil9RY4JjZD"
      }
    },
    {
      "cell_type": "code",
      "source": [
        "from pandas.core.internals.blocks import com\n",
        "#Quais são são os preços e postos de ETANOL na minha cidade\n",
        "\n",
        "etanol_df = comb_df.loc[(comb_df['Produto'] == 'ETANOL') & (comb_df['Municipio'] == 'BELO HORIZONTE')][['Revenda', 'Municipio', 'Produto', 'Valor de Venda']]\n",
        "\n",
        "display(etanol_df)"
      ],
      "metadata": {
        "colab": {
          "base_uri": "https://localhost:8080/",
          "height": 658
        },
        "id": "NeckM3teJtMO",
        "outputId": "d495e8ad-66d4-46aa-a39b-319491c6a3ce"
      },
      "execution_count": 43,
      "outputs": [
        {
          "output_type": "display_data",
          "data": {
            "text/plain": [
              "                                                  Revenda       Municipio  \\\n",
              "12196                                    POSTO TUNEL LTDA  BELO HORIZONTE   \n",
              "12199                                       POSTO CN LTDA  BELO HORIZONTE   \n",
              "12204                           POSTO MINAS SHOPPING LTDA  BELO HORIZONTE   \n",
              "12208   CENTRO COMERCIAL DE COMBUSTIVEIS MINAS PALMARE...  BELO HORIZONTE   \n",
              "12210                                 POSTO DO PAPAI LTDA  BELO HORIZONTE   \n",
              "...                                                   ...             ...   \n",
              "165349                                  POSTO R.E.M. LTDA  BELO HORIZONTE   \n",
              "166201                                  POSTO PARQUE LTDA  BELO HORIZONTE   \n",
              "166319                                POSTO ZEPPELIN LTDA  BELO HORIZONTE   \n",
              "166509            POSTO DE COMBUSTIVEIS VILA PLATINA LTDA  BELO HORIZONTE   \n",
              "166546                               POSTO FLORESTA LTDA.  BELO HORIZONTE   \n",
              "\n",
              "       Produto  Valor de Venda  \n",
              "12196   ETANOL           5.495  \n",
              "12199   ETANOL           5.494  \n",
              "12204   ETANOL           5.485  \n",
              "12208   ETANOL           5.490  \n",
              "12210   ETANOL           5.489  \n",
              "...        ...             ...  \n",
              "165349  ETANOL           5.275  \n",
              "166201  ETANOL           5.269  \n",
              "166319  ETANOL           5.275  \n",
              "166509  ETANOL           5.275  \n",
              "166546  ETANOL           5.272  \n",
              "\n",
              "[252 rows x 4 columns]"
            ],
            "text/html": [
              "\n",
              "  <div id=\"df-9505ff11-ae90-41e3-8a5f-23ceb4659314\">\n",
              "    <div class=\"colab-df-container\">\n",
              "      <div>\n",
              "<style scoped>\n",
              "    .dataframe tbody tr th:only-of-type {\n",
              "        vertical-align: middle;\n",
              "    }\n",
              "\n",
              "    .dataframe tbody tr th {\n",
              "        vertical-align: top;\n",
              "    }\n",
              "\n",
              "    .dataframe thead th {\n",
              "        text-align: right;\n",
              "    }\n",
              "</style>\n",
              "<table border=\"1\" class=\"dataframe\">\n",
              "  <thead>\n",
              "    <tr style=\"text-align: right;\">\n",
              "      <th></th>\n",
              "      <th>Revenda</th>\n",
              "      <th>Municipio</th>\n",
              "      <th>Produto</th>\n",
              "      <th>Valor de Venda</th>\n",
              "    </tr>\n",
              "  </thead>\n",
              "  <tbody>\n",
              "    <tr>\n",
              "      <th>12196</th>\n",
              "      <td>POSTO TUNEL LTDA</td>\n",
              "      <td>BELO HORIZONTE</td>\n",
              "      <td>ETANOL</td>\n",
              "      <td>5.495</td>\n",
              "    </tr>\n",
              "    <tr>\n",
              "      <th>12199</th>\n",
              "      <td>POSTO CN LTDA</td>\n",
              "      <td>BELO HORIZONTE</td>\n",
              "      <td>ETANOL</td>\n",
              "      <td>5.494</td>\n",
              "    </tr>\n",
              "    <tr>\n",
              "      <th>12204</th>\n",
              "      <td>POSTO MINAS SHOPPING LTDA</td>\n",
              "      <td>BELO HORIZONTE</td>\n",
              "      <td>ETANOL</td>\n",
              "      <td>5.485</td>\n",
              "    </tr>\n",
              "    <tr>\n",
              "      <th>12208</th>\n",
              "      <td>CENTRO COMERCIAL DE COMBUSTIVEIS MINAS PALMARE...</td>\n",
              "      <td>BELO HORIZONTE</td>\n",
              "      <td>ETANOL</td>\n",
              "      <td>5.490</td>\n",
              "    </tr>\n",
              "    <tr>\n",
              "      <th>12210</th>\n",
              "      <td>POSTO DO PAPAI LTDA</td>\n",
              "      <td>BELO HORIZONTE</td>\n",
              "      <td>ETANOL</td>\n",
              "      <td>5.489</td>\n",
              "    </tr>\n",
              "    <tr>\n",
              "      <th>...</th>\n",
              "      <td>...</td>\n",
              "      <td>...</td>\n",
              "      <td>...</td>\n",
              "      <td>...</td>\n",
              "    </tr>\n",
              "    <tr>\n",
              "      <th>165349</th>\n",
              "      <td>POSTO R.E.M. LTDA</td>\n",
              "      <td>BELO HORIZONTE</td>\n",
              "      <td>ETANOL</td>\n",
              "      <td>5.275</td>\n",
              "    </tr>\n",
              "    <tr>\n",
              "      <th>166201</th>\n",
              "      <td>POSTO PARQUE LTDA</td>\n",
              "      <td>BELO HORIZONTE</td>\n",
              "      <td>ETANOL</td>\n",
              "      <td>5.269</td>\n",
              "    </tr>\n",
              "    <tr>\n",
              "      <th>166319</th>\n",
              "      <td>POSTO ZEPPELIN LTDA</td>\n",
              "      <td>BELO HORIZONTE</td>\n",
              "      <td>ETANOL</td>\n",
              "      <td>5.275</td>\n",
              "    </tr>\n",
              "    <tr>\n",
              "      <th>166509</th>\n",
              "      <td>POSTO DE COMBUSTIVEIS VILA PLATINA LTDA</td>\n",
              "      <td>BELO HORIZONTE</td>\n",
              "      <td>ETANOL</td>\n",
              "      <td>5.275</td>\n",
              "    </tr>\n",
              "    <tr>\n",
              "      <th>166546</th>\n",
              "      <td>POSTO FLORESTA LTDA.</td>\n",
              "      <td>BELO HORIZONTE</td>\n",
              "      <td>ETANOL</td>\n",
              "      <td>5.272</td>\n",
              "    </tr>\n",
              "  </tbody>\n",
              "</table>\n",
              "<p>252 rows × 4 columns</p>\n",
              "</div>\n",
              "      <button class=\"colab-df-convert\" onclick=\"convertToInteractive('df-9505ff11-ae90-41e3-8a5f-23ceb4659314')\"\n",
              "              title=\"Convert this dataframe to an interactive table.\"\n",
              "              style=\"display:none;\">\n",
              "        \n",
              "  <svg xmlns=\"http://www.w3.org/2000/svg\" height=\"24px\"viewBox=\"0 0 24 24\"\n",
              "       width=\"24px\">\n",
              "    <path d=\"M0 0h24v24H0V0z\" fill=\"none\"/>\n",
              "    <path d=\"M18.56 5.44l.94 2.06.94-2.06 2.06-.94-2.06-.94-.94-2.06-.94 2.06-2.06.94zm-11 1L8.5 8.5l.94-2.06 2.06-.94-2.06-.94L8.5 2.5l-.94 2.06-2.06.94zm10 10l.94 2.06.94-2.06 2.06-.94-2.06-.94-.94-2.06-.94 2.06-2.06.94z\"/><path d=\"M17.41 7.96l-1.37-1.37c-.4-.4-.92-.59-1.43-.59-.52 0-1.04.2-1.43.59L10.3 9.45l-7.72 7.72c-.78.78-.78 2.05 0 2.83L4 21.41c.39.39.9.59 1.41.59.51 0 1.02-.2 1.41-.59l7.78-7.78 2.81-2.81c.8-.78.8-2.07 0-2.86zM5.41 20L4 18.59l7.72-7.72 1.47 1.35L5.41 20z\"/>\n",
              "  </svg>\n",
              "      </button>\n",
              "      \n",
              "  <style>\n",
              "    .colab-df-container {\n",
              "      display:flex;\n",
              "      flex-wrap:wrap;\n",
              "      gap: 12px;\n",
              "    }\n",
              "\n",
              "    .colab-df-convert {\n",
              "      background-color: #E8F0FE;\n",
              "      border: none;\n",
              "      border-radius: 50%;\n",
              "      cursor: pointer;\n",
              "      display: none;\n",
              "      fill: #1967D2;\n",
              "      height: 32px;\n",
              "      padding: 0 0 0 0;\n",
              "      width: 32px;\n",
              "    }\n",
              "\n",
              "    .colab-df-convert:hover {\n",
              "      background-color: #E2EBFA;\n",
              "      box-shadow: 0px 1px 2px rgba(60, 64, 67, 0.3), 0px 1px 3px 1px rgba(60, 64, 67, 0.15);\n",
              "      fill: #174EA6;\n",
              "    }\n",
              "\n",
              "    [theme=dark] .colab-df-convert {\n",
              "      background-color: #3B4455;\n",
              "      fill: #D2E3FC;\n",
              "    }\n",
              "\n",
              "    [theme=dark] .colab-df-convert:hover {\n",
              "      background-color: #434B5C;\n",
              "      box-shadow: 0px 1px 3px 1px rgba(0, 0, 0, 0.15);\n",
              "      filter: drop-shadow(0px 1px 2px rgba(0, 0, 0, 0.3));\n",
              "      fill: #FFFFFF;\n",
              "    }\n",
              "  </style>\n",
              "\n",
              "      <script>\n",
              "        const buttonEl =\n",
              "          document.querySelector('#df-9505ff11-ae90-41e3-8a5f-23ceb4659314 button.colab-df-convert');\n",
              "        buttonEl.style.display =\n",
              "          google.colab.kernel.accessAllowed ? 'block' : 'none';\n",
              "\n",
              "        async function convertToInteractive(key) {\n",
              "          const element = document.querySelector('#df-9505ff11-ae90-41e3-8a5f-23ceb4659314');\n",
              "          const dataTable =\n",
              "            await google.colab.kernel.invokeFunction('convertToInteractive',\n",
              "                                                     [key], {});\n",
              "          if (!dataTable) return;\n",
              "\n",
              "          const docLinkHtml = 'Like what you see? Visit the ' +\n",
              "            '<a target=\"_blank\" href=https://colab.research.google.com/notebooks/data_table.ipynb>data table notebook</a>'\n",
              "            + ' to learn more about interactive tables.';\n",
              "          element.innerHTML = '';\n",
              "          dataTable['output_type'] = 'display_data';\n",
              "          await google.colab.output.renderOutput(dataTable, element);\n",
              "          const docLink = document.createElement('div');\n",
              "          docLink.innerHTML = docLinkHtml;\n",
              "          element.appendChild(docLink);\n",
              "        }\n",
              "      </script>\n",
              "    </div>\n",
              "  </div>\n",
              "  "
            ]
          },
          "metadata": {}
        }
      ]
    },
    {
      "cell_type": "code",
      "source": [
        "#Ordenar os postos por preço do menor para o maior\n",
        "display(etanol_df.sort_values(by = 'Valor de Venda'))"
      ],
      "metadata": {
        "colab": {
          "base_uri": "https://localhost:8080/",
          "height": 658
        },
        "id": "CqLBwZUOM2_q",
        "outputId": "c05907e3-b460-4f0b-9932-b53f47debf8d"
      },
      "execution_count": 48,
      "outputs": [
        {
          "output_type": "display_data",
          "data": {
            "text/plain": [
              "                                                  Revenda       Municipio  \\\n",
              "144994                                    POSTO GALL LTDA  BELO HORIZONTE   \n",
              "164146                                 POSTO BOM BOM LTDA  BELO HORIZONTE   \n",
              "164116  CENTRO COMERCIAL DE COMBUSTIVEIS MINAS PALMARE...  BELO HORIZONTE   \n",
              "125936                            POSTO ZEPPE JARDIM LTDA  BELO HORIZONTE   \n",
              "135386                            POSTO ZEPPE JARDIM LTDA  BELO HORIZONTE   \n",
              "...                                                   ...             ...   \n",
              "50264                            POSTO CACHOEIRINHA LTDA.  BELO HORIZONTE   \n",
              "128965                                 POSTO BRUNATA LTDA  BELO HORIZONTE   \n",
              "31274                                    POSTO MARTE LTDA  BELO HORIZONTE   \n",
              "31237                                  POSTO PHOENIX LTDA  BELO HORIZONTE   \n",
              "69742                                       POSTO BH LTDA  BELO HORIZONTE   \n",
              "\n",
              "       Produto  Valor de Venda  \n",
              "144994  ETANOL           5.098  \n",
              "164146  ETANOL           5.259  \n",
              "164116  ETANOL           5.260  \n",
              "125936  ETANOL           5.265  \n",
              "135386  ETANOL           5.265  \n",
              "...        ...             ...  \n",
              "50264   ETANOL           5.599  \n",
              "128965  ETANOL           5.599  \n",
              "31274   ETANOL           5.599  \n",
              "31237   ETANOL           5.635  \n",
              "69742   ETANOL           5.742  \n",
              "\n",
              "[252 rows x 4 columns]"
            ],
            "text/html": [
              "\n",
              "  <div id=\"df-05c027b6-3b89-44d2-96d1-ba49efab1880\">\n",
              "    <div class=\"colab-df-container\">\n",
              "      <div>\n",
              "<style scoped>\n",
              "    .dataframe tbody tr th:only-of-type {\n",
              "        vertical-align: middle;\n",
              "    }\n",
              "\n",
              "    .dataframe tbody tr th {\n",
              "        vertical-align: top;\n",
              "    }\n",
              "\n",
              "    .dataframe thead th {\n",
              "        text-align: right;\n",
              "    }\n",
              "</style>\n",
              "<table border=\"1\" class=\"dataframe\">\n",
              "  <thead>\n",
              "    <tr style=\"text-align: right;\">\n",
              "      <th></th>\n",
              "      <th>Revenda</th>\n",
              "      <th>Municipio</th>\n",
              "      <th>Produto</th>\n",
              "      <th>Valor de Venda</th>\n",
              "    </tr>\n",
              "  </thead>\n",
              "  <tbody>\n",
              "    <tr>\n",
              "      <th>144994</th>\n",
              "      <td>POSTO GALL LTDA</td>\n",
              "      <td>BELO HORIZONTE</td>\n",
              "      <td>ETANOL</td>\n",
              "      <td>5.098</td>\n",
              "    </tr>\n",
              "    <tr>\n",
              "      <th>164146</th>\n",
              "      <td>POSTO BOM BOM LTDA</td>\n",
              "      <td>BELO HORIZONTE</td>\n",
              "      <td>ETANOL</td>\n",
              "      <td>5.259</td>\n",
              "    </tr>\n",
              "    <tr>\n",
              "      <th>164116</th>\n",
              "      <td>CENTRO COMERCIAL DE COMBUSTIVEIS MINAS PALMARE...</td>\n",
              "      <td>BELO HORIZONTE</td>\n",
              "      <td>ETANOL</td>\n",
              "      <td>5.260</td>\n",
              "    </tr>\n",
              "    <tr>\n",
              "      <th>125936</th>\n",
              "      <td>POSTO ZEPPE JARDIM LTDA</td>\n",
              "      <td>BELO HORIZONTE</td>\n",
              "      <td>ETANOL</td>\n",
              "      <td>5.265</td>\n",
              "    </tr>\n",
              "    <tr>\n",
              "      <th>135386</th>\n",
              "      <td>POSTO ZEPPE JARDIM LTDA</td>\n",
              "      <td>BELO HORIZONTE</td>\n",
              "      <td>ETANOL</td>\n",
              "      <td>5.265</td>\n",
              "    </tr>\n",
              "    <tr>\n",
              "      <th>...</th>\n",
              "      <td>...</td>\n",
              "      <td>...</td>\n",
              "      <td>...</td>\n",
              "      <td>...</td>\n",
              "    </tr>\n",
              "    <tr>\n",
              "      <th>50264</th>\n",
              "      <td>POSTO CACHOEIRINHA LTDA.</td>\n",
              "      <td>BELO HORIZONTE</td>\n",
              "      <td>ETANOL</td>\n",
              "      <td>5.599</td>\n",
              "    </tr>\n",
              "    <tr>\n",
              "      <th>128965</th>\n",
              "      <td>POSTO BRUNATA LTDA</td>\n",
              "      <td>BELO HORIZONTE</td>\n",
              "      <td>ETANOL</td>\n",
              "      <td>5.599</td>\n",
              "    </tr>\n",
              "    <tr>\n",
              "      <th>31274</th>\n",
              "      <td>POSTO MARTE LTDA</td>\n",
              "      <td>BELO HORIZONTE</td>\n",
              "      <td>ETANOL</td>\n",
              "      <td>5.599</td>\n",
              "    </tr>\n",
              "    <tr>\n",
              "      <th>31237</th>\n",
              "      <td>POSTO PHOENIX LTDA</td>\n",
              "      <td>BELO HORIZONTE</td>\n",
              "      <td>ETANOL</td>\n",
              "      <td>5.635</td>\n",
              "    </tr>\n",
              "    <tr>\n",
              "      <th>69742</th>\n",
              "      <td>POSTO BH LTDA</td>\n",
              "      <td>BELO HORIZONTE</td>\n",
              "      <td>ETANOL</td>\n",
              "      <td>5.742</td>\n",
              "    </tr>\n",
              "  </tbody>\n",
              "</table>\n",
              "<p>252 rows × 4 columns</p>\n",
              "</div>\n",
              "      <button class=\"colab-df-convert\" onclick=\"convertToInteractive('df-05c027b6-3b89-44d2-96d1-ba49efab1880')\"\n",
              "              title=\"Convert this dataframe to an interactive table.\"\n",
              "              style=\"display:none;\">\n",
              "        \n",
              "  <svg xmlns=\"http://www.w3.org/2000/svg\" height=\"24px\"viewBox=\"0 0 24 24\"\n",
              "       width=\"24px\">\n",
              "    <path d=\"M0 0h24v24H0V0z\" fill=\"none\"/>\n",
              "    <path d=\"M18.56 5.44l.94 2.06.94-2.06 2.06-.94-2.06-.94-.94-2.06-.94 2.06-2.06.94zm-11 1L8.5 8.5l.94-2.06 2.06-.94-2.06-.94L8.5 2.5l-.94 2.06-2.06.94zm10 10l.94 2.06.94-2.06 2.06-.94-2.06-.94-.94-2.06-.94 2.06-2.06.94z\"/><path d=\"M17.41 7.96l-1.37-1.37c-.4-.4-.92-.59-1.43-.59-.52 0-1.04.2-1.43.59L10.3 9.45l-7.72 7.72c-.78.78-.78 2.05 0 2.83L4 21.41c.39.39.9.59 1.41.59.51 0 1.02-.2 1.41-.59l7.78-7.78 2.81-2.81c.8-.78.8-2.07 0-2.86zM5.41 20L4 18.59l7.72-7.72 1.47 1.35L5.41 20z\"/>\n",
              "  </svg>\n",
              "      </button>\n",
              "      \n",
              "  <style>\n",
              "    .colab-df-container {\n",
              "      display:flex;\n",
              "      flex-wrap:wrap;\n",
              "      gap: 12px;\n",
              "    }\n",
              "\n",
              "    .colab-df-convert {\n",
              "      background-color: #E8F0FE;\n",
              "      border: none;\n",
              "      border-radius: 50%;\n",
              "      cursor: pointer;\n",
              "      display: none;\n",
              "      fill: #1967D2;\n",
              "      height: 32px;\n",
              "      padding: 0 0 0 0;\n",
              "      width: 32px;\n",
              "    }\n",
              "\n",
              "    .colab-df-convert:hover {\n",
              "      background-color: #E2EBFA;\n",
              "      box-shadow: 0px 1px 2px rgba(60, 64, 67, 0.3), 0px 1px 3px 1px rgba(60, 64, 67, 0.15);\n",
              "      fill: #174EA6;\n",
              "    }\n",
              "\n",
              "    [theme=dark] .colab-df-convert {\n",
              "      background-color: #3B4455;\n",
              "      fill: #D2E3FC;\n",
              "    }\n",
              "\n",
              "    [theme=dark] .colab-df-convert:hover {\n",
              "      background-color: #434B5C;\n",
              "      box-shadow: 0px 1px 3px 1px rgba(0, 0, 0, 0.15);\n",
              "      filter: drop-shadow(0px 1px 2px rgba(0, 0, 0, 0.3));\n",
              "      fill: #FFFFFF;\n",
              "    }\n",
              "  </style>\n",
              "\n",
              "      <script>\n",
              "        const buttonEl =\n",
              "          document.querySelector('#df-05c027b6-3b89-44d2-96d1-ba49efab1880 button.colab-df-convert');\n",
              "        buttonEl.style.display =\n",
              "          google.colab.kernel.accessAllowed ? 'block' : 'none';\n",
              "\n",
              "        async function convertToInteractive(key) {\n",
              "          const element = document.querySelector('#df-05c027b6-3b89-44d2-96d1-ba49efab1880');\n",
              "          const dataTable =\n",
              "            await google.colab.kernel.invokeFunction('convertToInteractive',\n",
              "                                                     [key], {});\n",
              "          if (!dataTable) return;\n",
              "\n",
              "          const docLinkHtml = 'Like what you see? Visit the ' +\n",
              "            '<a target=\"_blank\" href=https://colab.research.google.com/notebooks/data_table.ipynb>data table notebook</a>'\n",
              "            + ' to learn more about interactive tables.';\n",
              "          element.innerHTML = '';\n",
              "          dataTable['output_type'] = 'display_data';\n",
              "          await google.colab.output.renderOutput(dataTable, element);\n",
              "          const docLink = document.createElement('div');\n",
              "          docLink.innerHTML = docLinkHtml;\n",
              "          element.appendChild(docLink);\n",
              "        }\n",
              "      </script>\n",
              "    </div>\n",
              "  </div>\n",
              "  "
            ]
          },
          "metadata": {}
        }
      ]
    },
    {
      "cell_type": "markdown",
      "source": [
        "##Exportar o data frame in CSV contendo os Postos de BH com ETANOL"
      ],
      "metadata": {
        "id": "3oR8tVzFpEkG"
      }
    },
    {
      "cell_type": "code",
      "source": [
        "#Exportar o data frame in CSV contendo os Postos de BH com ETANOL\n",
        "with open('postos_bh.txt','w') as file_out:\n",
        "  file_out.write(etanol_df.to_csv())"
      ],
      "metadata": {
        "id": "4apiahFvOYA2"
      },
      "execution_count": 53,
      "outputs": []
    },
    {
      "cell_type": "code",
      "source": [
        "#Qual a média dos Produtos GASOLINA e GASOLINA ADITIVADA do Bairro \n",
        "#MOOCA do Municipio SAO PAULO\n",
        "\n",
        "mooca_df = comb_df.loc[((comb_df['Bairro'] == 'MOOCA') & \n",
        "                       (comb_df['Municipio'] == 'SAO PAULO')) &\n",
        "                       ((comb_df['Produto'] == 'GASOLINA') | \n",
        "                        (comb_df['Produto'] == 'GASOLINA ADITIVADA'))][\n",
        "                        ['Revenda', 'Municipio', 'Bairro', 'Produto', 'Valor de Venda']]\n",
        "\n",
        "media_preco_moca = mooca_df['Valor de Venda'].mean()\n",
        "print('Preço médio da Gasolina Comum e Aditivada no bairro Mooca:')\n",
        "print('R${0:2.2f}'.format(media_preco_moca))\n"
      ],
      "metadata": {
        "colab": {
          "base_uri": "https://localhost:8080/"
        },
        "id": "tE_KQ61wP_9c",
        "outputId": "d42bbec2-f3db-41ba-dd06-6779d63b0964"
      },
      "execution_count": 89,
      "outputs": [
        {
          "output_type": "stream",
          "name": "stdout",
          "text": [
            "Preço médio da Gasolina Comum e Aditivada no bairro Mooca:\n",
            "R$6.58\n"
          ]
        }
      ]
    },
    {
      "cell_type": "code",
      "source": [
        "#Como mostrar a média do Valor de Venda por PRODUTO\n",
        "valor_comb = comb_df[['Produto', 'Valor de Venda']]\n",
        "print(valor_comb.groupby(by='Produto').mean().sort_values(by='Valor de Venda').round(2))"
      ],
      "metadata": {
        "colab": {
          "base_uri": "https://localhost:8080/"
        },
        "id": "AE6tvvK-fMSr",
        "outputId": "2ae4db36-eb88-4cdb-dd3e-07a05d256f20"
      },
      "execution_count": 108,
      "outputs": [
        {
          "output_type": "stream",
          "name": "stdout",
          "text": [
            "                    Valor de Venda\n",
            "Produto                           \n",
            "GNV                           4.39\n",
            "DIESEL                        5.38\n",
            "DIESEL S10                    5.45\n",
            "ETANOL                        5.46\n",
            "GASOLINA                      6.71\n",
            "GASOLINA ADITIVADA            6.86\n"
          ]
        }
      ]
    },
    {
      "cell_type": "markdown",
      "source": [
        "##Adicionando dados ao data-frame\n",
        "exemplo:\n",
        "Adicionar uma coluna de valor booleano chamado 'Ativo\" que, por padrão, será True para TODAS as linas."
      ],
      "metadata": {
        "id": "4JM3LcZcj7LP"
      }
    },
    {
      "cell_type": "code",
      "source": [
        "comb_df['Ativo'] = True"
      ],
      "metadata": {
        "id": "3MQAaO6ukKC4"
      },
      "execution_count": 109,
      "outputs": []
    },
    {
      "cell_type": "code",
      "source": [
        "print(comb_df.info())"
      ],
      "metadata": {
        "colab": {
          "base_uri": "https://localhost:8080/"
        },
        "id": "NSjbZXzWkuJk",
        "outputId": "22d5a266-460c-48cc-a637-c96ca8220e4d"
      },
      "execution_count": 113,
      "outputs": [
        {
          "output_type": "stream",
          "name": "stdout",
          "text": [
            "<class 'pandas.core.frame.DataFrame'>\n",
            "RangeIndex: 168409 entries, 0 to 168408\n",
            "Data columns (total 17 columns):\n",
            " #   Column             Non-Null Count   Dtype         \n",
            "---  ------             --------------   -----         \n",
            " 0   Regiao - Sigla     168409 non-null  object        \n",
            " 1   Estado - Sigla     168409 non-null  object        \n",
            " 2   Municipio          168409 non-null  object        \n",
            " 3   Revenda            168409 non-null  object        \n",
            " 4   CNPJ da Revenda    168409 non-null  object        \n",
            " 5   Nome da Rua        168409 non-null  object        \n",
            " 6   Numero Rua         168353 non-null  object        \n",
            " 7   Complemento        35057 non-null   object        \n",
            " 8   Bairro             168043 non-null  object        \n",
            " 9   Cep                168409 non-null  object        \n",
            " 10  Produto            168409 non-null  object        \n",
            " 11  Data da Coleta     168409 non-null  datetime64[ns]\n",
            " 12  Valor de Venda     168409 non-null  float64       \n",
            " 13  Valor de Compra    0 non-null       float64       \n",
            " 14  Unidade de Medida  168409 non-null  object        \n",
            " 15  Bandeira           168409 non-null  object        \n",
            " 16  Ativo              168409 non-null  bool          \n",
            "dtypes: bool(1), datetime64[ns](1), float64(2), object(13)\n",
            "memory usage: 20.7+ MB\n",
            "None\n"
          ]
        }
      ]
    },
    {
      "cell_type": "markdown",
      "source": [
        "##Como condicionar o valor da nova coluna\n",
        "Exemplo:\n",
        "Coluna nova chamada 'Obs' que preencha automaticamente 'MELHOR CIDADE' quando municipio for (sua cidade)."
      ],
      "metadata": {
        "id": "9F1CXTI1mHCX"
      }
    },
    {
      "cell_type": "code",
      "source": [
        "comb_df['Obs'] = \"\"\n",
        "comb_df['Obs'] = ['Melhor Cidade' if municipio == 'BELO HORIZONTE' else '' for municipio in comb_df['Municipio']]\n",
        "\n",
        "print(comb_df)"
      ],
      "metadata": {
        "id": "p75ZegZ0mYVk"
      },
      "execution_count": null,
      "outputs": []
    },
    {
      "cell_type": "markdown",
      "source": [
        "##Exportar Dados para Excel"
      ],
      "metadata": {
        "id": "zIFlfGgao3Fb"
      }
    },
    {
      "cell_type": "code",
      "source": [
        "etanol_df.to_excel('etanol_BH.xlsx', sheet_name='Postos em BH', header=False, index=False)"
      ],
      "metadata": {
        "id": "XwF5tmqCpJCs"
      },
      "execution_count": 131,
      "outputs": []
    }
  ]
}