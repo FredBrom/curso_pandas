{
  "nbformat": 4,
  "nbformat_minor": 0,
  "metadata": {
    "colab": {
      "provenance": [],
      "authorship_tag": "ABX9TyOy1A9oJ25H4bgX7wsoXS/4",
      "include_colab_link": true
    },
    "kernelspec": {
      "name": "python3",
      "display_name": "Python 3"
    },
    "language_info": {
      "name": "python"
    }
  },
  "cells": [
    {
      "cell_type": "markdown",
      "metadata": {
        "id": "view-in-github",
        "colab_type": "text"
      },
      "source": [
        "<a href=\"https://colab.research.google.com/github/FredBrom/curso_pandas/blob/main/aula_10_02.ipynb\" target=\"_parent\"><img src=\"https://colab.research.google.com/assets/colab-badge.svg\" alt=\"Open In Colab\"/></a>"
      ]
    },
    {
      "cell_type": "markdown",
      "source": [
        "#Aula 10-02-23\n",
        "\n",
        "Aluno: Frederico Marx Brom Carneiro\n",
        "\n",
        "\n",
        "*   Gráficos (matplotlib.pyplot)\n",
        "*   Excel (openpyxl)\n",
        "\n",
        "\n"
      ],
      "metadata": {
        "id": "euvjaiA6aWAt"
      }
    },
    {
      "cell_type": "code",
      "source": [
        "import pandas as pd\n",
        "import numpy as np\n",
        "import matplotlib.pyplot as plt\n"
      ],
      "metadata": {
        "id": "7X35ePBeaiTu"
      },
      "execution_count": 1,
      "outputs": []
    },
    {
      "cell_type": "code",
      "source": [
        "combustiveis_df = pd.read_excel('ca-2021-02.xlsx')"
      ],
      "metadata": {
        "id": "gm8BMZXWbFsE"
      },
      "execution_count": 2,
      "outputs": []
    },
    {
      "cell_type": "code",
      "source": [
        "plt.hist(combustiveis_df['Valor de Venda'])\n",
        "plt.title(\"Valor médio dos combustíveis Nov/2021\")\n",
        "plt.xlabel(\"Preço (R$)\")\n",
        "plt.ylabel(\"Numero de Coletas\")\n",
        "plt.axvline(x=combustiveis_df['Valor de Venda'].mean(), color='red', linestyle='--')"
      ],
      "metadata": {
        "colab": {
          "base_uri": "https://localhost:8080/",
          "height": 312
        },
        "id": "9o4NsZ6FgdVs",
        "outputId": "2182c605-7595-4f75-c408-17d156947894"
      },
      "execution_count": 8,
      "outputs": [
        {
          "output_type": "execute_result",
          "data": {
            "text/plain": [
              "<matplotlib.lines.Line2D at 0x7ffa33a6d6a0>"
            ]
          },
          "metadata": {},
          "execution_count": 8
        },
        {
          "output_type": "display_data",
          "data": {
            "text/plain": [
              "<Figure size 432x288 with 1 Axes>"
            ],
            "image/png": "[encoded data removed]"
          },
          "metadata": {
            "needs_background": "light"
          }
        }
      ]
    },
    {
      "cell_type": "code",
      "source": [
        "#Visualização do consumo médio\n",
        "c_mean = combustiveis_df['Valor de Venda'].groupby(by=combustiveis_df['Produto']).mean()\n",
        "display(c_mean)\n",
        "\n",
        "plt.figure(figsize=(7,5))\n",
        "c_mean.plot(kind='barh', xlabel='combustível', ylabel='Preço Por Litro (R$)', color='#8E44AD', title='Média de Preços por combustivel', alpha=0.7)\n",
        "plt.grid()"
      ],
      "metadata": {
        "colab": {
          "base_uri": "https://localhost:8080/",
          "height": 475
        },
        "id": "fKfdT_gelKso",
        "outputId": "fa4e1127-26f5-4e1c-829f-f655ff2f406c"
      },
      "execution_count": 31,
      "outputs": [
        {
          "output_type": "display_data",
          "data": {
            "text/plain": [
              "Produto\n",
              "DIESEL                5.375682\n",
              "DIESEL S10            5.454901\n",
              "ETANOL                5.456115\n",
              "GASOLINA              6.708741\n",
              "GASOLINA ADITIVADA    6.860422\n",
              "GNV                   4.392935\n",
              "Name: Valor de Venda, dtype: float64"
            ]
          },
          "metadata": {}
        },
        {
          "output_type": "display_data",
          "data": {
            "text/plain": [
              "<Figure size 504x360 with 1 Axes>"
            ],
            "image/png": "[encoded data removed]"
          },
          "metadata": {
            "needs_background": "light"
          }
        }
      ]
    },
    {
      "cell_type": "code",
      "source": [
        "##Personalizando a planilha do Excel\n",
        "\n",
        "from openpyxl import load_workbook\n",
        "from openpyxl.styles import PatternFill, Font, Color, Alignment\n",
        "\n",
        "excel = 'por_litro.xlsx'\n",
        "\n",
        "c_mean.to_excel(excel,'Sumario')"
      ],
      "metadata": {
        "id": "P9AUGBu2xNLM"
      },
      "execution_count": 32,
      "outputs": []
    },
    {
      "cell_type": "code",
      "source": [
        "#Abrir o aqruivo Excel\n",
        "wb = load_workbook(excel)\n",
        "#Selecionar a Planilha atual\n",
        "ws = wb['Sumario']\n",
        "\n",
        "cinza = PatternFill('solid', fgColor='808080')\n",
        "ws['A1'].fill=cinza\n",
        "ws['B1'].fill=cinza\n",
        "\n",
        "#onde o preço do combustivel for maior ou igual a 6.5 reais, pinta a fonte de vermelho\n",
        "# e dexa negrito\n",
        "\n",
        "num_linha = 2\n",
        "while (num_linha <= ws.max_row):\n",
        "  if ws['B'+str(num_linha)].value >= 6.5:\n",
        "    ws['B'+str(num_linha)].font = Font(bold=True, color='FF0000', size=12)\n",
        "  num_linha += 1\n",
        "wb.save(excel)"
      ],
      "metadata": {
        "id": "Nu3zeG6G2LuC"
      },
      "execution_count": 45,
      "outputs": []
    }
  ]
}